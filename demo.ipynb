{
 "cells": [
  {
   "cell_type": "code",
   "execution_count": null,
   "metadata": {},
   "outputs": [],
   "source": [
    "import os\n",
    "os.environ['CUDA_VISIBLE_DEVICES']='0'\n",
    "\n",
    "from SUR_adapter_pipeline import SURStableDiffusionPipeline\n",
    "import torch\n",
    "from SUR_adapter import Adapter\n",
    "\n",
    "adapter_path = \"checkpoints/runwayml_fp16/test_llm13B_llml39_lr1e-05_llmw1e-05_promptw1e-05_adapterw0.1/adapter_checkpoint1000.pt\"\n",
    "adapter=Adapter().to(\"cuda\")\n",
    "adapter.load_state_dict(torch.load(adapter_path))\n",
    "adapter.adapter_weight = float(adapter_path.split(\"adapterw\")[-1].split('/')[0])\n",
    "\n",
    "model_path = \"runwayml/stable-diffusion-v1-5\"\n",
    "pipe = SURStableDiffusionPipeline.from_pretrained(model_path, adapter=adapter)\n",
    "pipe.to(\"cuda\")\n",
    "pipe.safety_checker = lambda images, clip_input: (images, False)\n",
    "\n",
    "image = pipe(prompt='An aristocratic maiden in medieval attire with a headdress of brilliant feathers').images[0]\n",
    "image.show()\n"
   ]
  },
  {
   "cell_type": "code",
   "execution_count": null,
   "metadata": {},
   "outputs": [],
   "source": []
  }
 ],
 "metadata": {
  "kernelspec": {
   "display_name": "base",
   "language": "python",
   "name": "python3"
  },
  "language_info": {
   "codemirror_mode": {
    "name": "ipython",
    "version": 3
   },
   "file_extension": ".py",
   "mimetype": "text/x-python",
   "name": "python",
   "nbconvert_exporter": "python",
   "pygments_lexer": "ipython3",
   "version": "3.9.13"
  },
  "orig_nbformat": 4
 },
 "nbformat": 4,
 "nbformat_minor": 2
}
